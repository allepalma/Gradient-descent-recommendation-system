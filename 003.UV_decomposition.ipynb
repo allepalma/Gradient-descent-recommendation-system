{
 "cells": [
  {
   "cell_type": "markdown",
   "metadata": {},
   "source": [
    "## Assignment 1 \n",
    "**Alessandro Palma**  \n",
    "**Thomas Lieber**"
   ]
  },
  {
   "cell_type": "markdown",
   "metadata": {},
   "source": [
    "Initially, we retrieve and parse the data concerning both ratings, movies and users."
   ]
  },
  {
   "cell_type": "code",
   "execution_count": 1,
   "metadata": {},
   "outputs": [],
   "source": [
    "import numpy as np\n",
    "import pandas as pd\n",
    "import sklearn\n",
    "from sklearn.metrics import mean_squared_error\n",
    "import matplotlib.pyplot as plt\n",
    "import time"
   ]
  },
  {
   "cell_type": "markdown",
   "metadata": {},
   "source": [
    "**Data parsing**"
   ]
  },
  {
   "cell_type": "markdown",
   "metadata": {},
   "source": [
    "Parse the data and retrieve the ratings"
   ]
  },
  {
   "cell_type": "code",
   "execution_count": 2,
   "metadata": {},
   "outputs": [],
   "source": [
    "#Import the Data Frame containing the ratings.\n",
    "data = np.genfromtxt('./ml-1m/ratings.dat',\n",
    "                     delimiter='::', usecols = (0, 1, 2), dtype = int)\n",
    "\n",
    "ratings = pd.DataFrame(data)\n",
    "ratings.columns = ['user', 'movie', 'rating']"
   ]
  },
  {
   "cell_type": "code",
   "execution_count": 3,
   "metadata": {},
   "outputs": [],
   "source": [
    "#Generate the training sparse matrix\n",
    "rating_mat = ratings.pivot(index='user', columns='movie', values='rating')"
   ]
  },
  {
   "cell_type": "code",
   "execution_count": 6,
   "metadata": {},
   "outputs": [],
   "source": [
    "#We will work with numpy arrays since faster. \n",
    "ratings_np = np.matrix(ratings)\n",
    "rating_mat_np = np.array(rating_mat)\n",
    "\n",
    "#ratings_np represents the data frame of ratings with information encoded as <userID, moviesID, rating>. \n",
    "#rating_mat_np is the sparse matrix of ratings we use for the optimization algorithm."
   ]
  },
  {
   "cell_type": "markdown",
   "metadata": {},
   "source": [
    "**Implement the UV decomposition algorithm**"
   ]
  },
  {
   "cell_type": "markdown",
   "metadata": {},
   "source": [
    "The UV matrix decomposition algorithm aims to decompose a matrix $X$ to two lower rank matrices $U$ and $V$ such that their dot product represents a good approximation of $X$. This method can be adopted for the development of a recommendation system that approximates the utility matrix $X$ as the matrix product between a user matrix $U$ and an item matrix $V$. The principle behind the optimization algorithm lies in the subsequent substitution of all elements of the matrices $U$ and $V$ with variables to optimize one at the time. Upon encoding  one element of the two matrices with an independent variable, the square error between the utility matrix $X$ and the product $UV$ is subject to quadratic optimization. As we find the optimal value of one variable representing one element of either $U$ or $V$, we pass to the next entry to optimize of the same matrix. \n",
    "\n",
    "We will therefore optimize subsequently all elements of $U$ and then all elements of $V$. Performing a single traversal will although not be enough for the optimization to be fulfilled. Indeed, when a value is optimized, this means that previously already optimized values could be further improved by means of subsequent cycles of the algorithm, which prompts us to carry on with the same logic until a final convergence is met. In practice, we let the algorithm cycle for approximately 40 runs and evaluate its performance in the end."
   ]
  },
  {
   "cell_type": "markdown",
   "metadata": {},
   "source": [
    "**Estimate accuracy with iter = 20**"
   ]
  },
  {
   "cell_type": "code",
   "execution_count": 47,
   "metadata": {
    "scrolled": true
   },
   "outputs": [],
   "source": [
    "def initialize(ratings, n_users, n_movies, K):\n",
    "    '''\n",
    "    Given a rating data frame, the number of users and the number of movies, the algorithm initializes \n",
    "    two matrices U and V of dimensions n_users*K and K*n_movies\n",
    "    '''\n",
    "    #Following the suggestions of the book, we use as initialization value the square root of the average value of the \n",
    "    #rating matrix divided by K. Then we introduce some random noise. \n",
    "    nan_mean = np.mean(ratings['rating'])\n",
    "    initialize = np.sqrt(nan_mean/K)\n",
    "    U = (np.repeat(initialize, K*n_users) + np.random.normal(0,1,K*n_users)).reshape((n_users, K))\n",
    "    V = (np.repeat(initialize, K*n_movies) + np.random.normal(0,1,K*n_movies)).reshape((K, n_movies))\n",
    "    return U,V\n",
    "\n",
    "def RMSE(ratings, X, UV):\n",
    "    '''\n",
    "    RMSE computes the root mean squared error of two matrices, X and UM. Ratings is an array containing the list of\n",
    "    ratings recorded as <userID, itemID, rating>.\n",
    "    '''\n",
    "    diff = X - UV\n",
    "    n_non_missing = len(ratings)\n",
    "    rmse = np.sqrt(np.nansum(diff**2)/n_non_missing)\n",
    "    return rmse\n",
    "\n",
    "def MAE(ratings, X, UV):\n",
    "    '''\n",
    "    MAE computes the mean absolute error of two matrices, X and UV.\n",
    "    '''\n",
    "    diff = X - UV\n",
    "    n_non_missing = len(ratings)\n",
    "    mae = np.nansum(abs(diff))/n_non_missing\n",
    "    return mae\n",
    "\n",
    "def UV_decomp(ratings, X, U, V, K = 10, iter = 40):\n",
    "    '''\n",
    "    Implement the UV matrix decomposition algorithm.\n",
    "    '''\n",
    "    res = []\n",
    "    #Fix the old and new RMSE values.\n",
    "    RMSE_old = 1000\n",
    "    RMSE_new = RMSE(ratings, X, U.dot(V))\n",
    "    #cols_X and rows_X simply contain the indexes of the rows and columns of the\n",
    "    #matrix X. They will be used for cycling.\n",
    "    cols_X = np.arange(np.size(X,1))\n",
    "    rows_X = np.arange(np.size(X,0))\n",
    "    #Features is a vector from 0 to K-1.\n",
    "    features = np.arange(K)\n",
    "    count = 1\n",
    "    while count<=iter:\n",
    "        RMSE_old = RMSE_new\n",
    "        #Cycle across the rows and columns of U. \n",
    "        for r in rows_X:\n",
    "            #To implement update formulas you need to get the columns\n",
    "            #of X such that their value at the row r is not NaN. \n",
    "            non_missing_cols = cols_X[~ np.isnan(list(X[r,:]))]\n",
    "            for s in features:               \n",
    "                num = np.sum(V[s, non_missing_cols] * (X[r, non_missing_cols] - \n",
    "                        U[r,np.delete(features, s)].dot(V[np.delete(features, s)][:,non_missing_cols])))\n",
    "                den = np.sum(V[s,non_missing_cols]**2)\n",
    "                U[r,s] = num/den\n",
    "        #Repeat the process to update V\n",
    "        for s in cols_X: \n",
    "            non_missing_rows = rows_X[~ np.isnan(list(X[:, s]))]\n",
    "            for r in features:   \n",
    "                num = np.sum(U[non_missing_rows, r] * (X[non_missing_rows, s] - \n",
    "                    U[non_missing_rows][:,np.delete(features, r)].dot(V[np.delete(features, r),s])))\n",
    "                den = np.sum(U[non_missing_rows, r]**2)\n",
    "                V[r,s] = num/den\n",
    "        #Compute the matrix product between the new U and V.\n",
    "        RMSE_new = RMSE(ratings, X , U.dot(V))\n",
    "        res.append(RMSE_new)\n",
    "        count += 1 \n",
    "    return U.dot(V), res"
   ]
  },
  {
   "cell_type": "markdown",
   "metadata": {},
   "source": [
    "In the following script, we will estimate the test error of our approach for iter = 40 and $k = 10$ via 5-fold cross-validation."
   ]
  },
  {
   "cell_type": "code",
   "execution_count": 16,
   "metadata": {
    "scrolled": true
   },
   "outputs": [
    {
     "name": "stdout",
     "output_type": "stream",
     "text": [
      "Start iteration 0\n",
      "End of iteration 0\n",
      "Start iteration 1\n",
      "End of iteration 1\n",
      "Start iteration 2\n",
      "End of iteration 2\n",
      "Start iteration 3\n",
      "End of iteration 3\n",
      "Start iteration 4\n",
      "End of iteration 4\n"
     ]
    }
   ],
   "source": [
    "#Implement 5-fold cross validation.\n",
    "\n",
    "#We will keep a partial error for plotting.\n",
    "partial_error = []\n",
    "\n",
    "#Set parameter K.\n",
    "K = 10\n",
    "\n",
    "#Set a seed for reproducibility\n",
    "np.random.seed(888)\n",
    "\n",
    "#Generate the 5 folds for all rows of the utility matrix of input.\n",
    "nfolds = 5\n",
    "folds = np.array([x%nfolds for x in range(len(ratings))])\n",
    "np.random.shuffle(folds)\n",
    "\n",
    "#Set up the vectors of errors. \n",
    "errors_5folds_mae_training = []\n",
    "errors_5folds_rmse_training = []\n",
    "errors_5folds_mae_test = []\n",
    "errors_5folds_rmse_test = [] \n",
    "\n",
    "'''\n",
    "We will cycle through the possible folds (from 1 to 5) and leave one set of observations (test set) out of the training process.\n",
    "Then, we use it to perform predictions and compute the error. \n",
    "'''\n",
    "\n",
    "for i in range(5):\n",
    "    print('Start iteration '+ str(i))\n",
    "    #Fix the rows of the ratings Data Frame that will be the training set.\n",
    "    train = ratings.loc[folds!=i, :]\n",
    "    train_mat = train.pivot(index='user', columns='movie', values='rating')\n",
    "    train_np = np.matrix(train)\n",
    "    train_mat_np = np.array(train_mat)\n",
    "    \n",
    "    #Create lookup dictionary associating the indices of the numpy array to the\n",
    "    #respective movieID and userID.\n",
    "    col_names_train = {train_mat.columns[j]:j for j in range(len(train_mat.columns))}\n",
    "    row_names_train = {train_mat.index[j]:j for j in range(len(train_mat.index))}   \n",
    "    \n",
    "    #Initialize U and V and run the prediction.\n",
    "    U, V = initialize(train, np.size(train_mat_np,0), np.size(train_mat_np,1), K)\n",
    "    pred, res = UV_decomp(train_np, train_mat_np, U, V, iter = 40)\n",
    "    \n",
    "    #Initialize test set\n",
    "    test =  ratings.loc[folds == i, :]\n",
    "    test_np = np.matrix(test)\n",
    "    test_pred = []\n",
    "    \n",
    "    #The global mean of the training matrix will be used as a prediction for the observations that have a missing \n",
    "    #movie or user in the training set.\n",
    "    global_mean = np.mean(train['rating'])\n",
    "    \n",
    "    #Create the prediction vector of the test set. If a user or item are not present\n",
    "    #in the training set, predict their rating as the gloal mean of the training ratings.\n",
    "    for val in test_np:\n",
    "        if val[0,0] in row_names_train and val[0,1] in col_names_train:\n",
    "            test_pred.append(pred[row_names_train[val[0,0]], col_names_train[val[0,1]]])\n",
    "        else:\n",
    "            test_pred.append(global_mean)\n",
    "       \n",
    "    test_pred = np.array(test_pred)\n",
    "    test_obs = np.array(test['rating'])\n",
    "    \n",
    "    \n",
    "    #Extra fallback rules to improve performance\n",
    "    test_pred = np.where(test_pred > 5, 5, test_pred)\n",
    "    test_pred = np.where(test_pred < 1, 1, test_pred)\n",
    "    \n",
    "    #Calculate and store the errors on the training set and test set. \n",
    "    errors_5folds_rmse_training.append(RMSE(train_np,train_mat_np,pred))\n",
    "    errors_5folds_mae_training.append(MAE(train_np, train_mat_np,pred))    \n",
    "    \n",
    "    #Calculate the error on the test set and store it.\n",
    "    test_RMSE = np.sqrt(np.sum((test_pred-test_obs)**2)/len(test_pred)) \n",
    "    test_MAE = np.sum(abs(test_pred-test_obs))/len(test_pred)\n",
    "    errors_5folds_rmse_test.append(test_RMSE)\n",
    "    errors_5folds_mae_test.append(test_MAE) \n",
    "       \n",
    "    \n",
    "    partial_error.append(res)   \n",
    "    print('End of iteration', i)    "
   ]
  },
  {
   "cell_type": "code",
   "execution_count": 17,
   "metadata": {},
   "outputs": [
    {
     "name": "stdout",
     "output_type": "stream",
     "text": [
      "The average rmse over the training set is:  0.7860738710856158\n",
      "The average mae over the training set is:  0.6158612794987914\n",
      "The average rmse over the test set is:  0.908370754886924\n",
      "The average mae over the test set is:  0.7033982469729751\n"
     ]
    }
   ],
   "source": [
    "#Average across the folds to compute the errors. \n",
    "cv_error_mae_train = np.mean(errors_5folds_mae_training)\n",
    "cv_error_rmse_train = np.mean(errors_5folds_rmse_training)\n",
    "cv_error_mae_test = np.mean(errors_5folds_mae_test)\n",
    "cv_error_rmse_test = np.mean(errors_5folds_rmse_test)\n",
    "\n",
    "print('The average rmse over the training set is: ', cv_error_rmse_train)\n",
    "print('The average mae over the training set is: ', cv_error_mae_train)\n",
    "print('The average rmse over the test set is: ', cv_error_rmse_test)\n",
    "print('The average mae over the test set is: ', cv_error_mae_test)"
   ]
  },
  {
   "cell_type": "markdown",
   "metadata": {},
   "source": [
    "Plot convergence. "
   ]
  },
  {
   "cell_type": "code",
   "execution_count": 18,
   "metadata": {},
   "outputs": [
    {
     "data": {
      "image/png": "[encoded data removed]",
      "text/plain": [
       "<Figure size 1080x1080 with 1 Axes>"
      ]
     },
     "metadata": {
      "needs_background": "light"
     },
     "output_type": "display_data"
    }
   ],
   "source": [
    "#Plot the convergence on the training set. \n",
    "fig = plt.figure(figsize=(15,15))\n",
    "\n",
    "for i in range(1,6):\n",
    "    plt.plot(partial_error[i-1], label =  'Fold removed: '+str(i))\n",
    "plt.legend(loc=1, prop={'size': 20})\n",
    "plt.grid()\n",
    "plt.title('Convergence of UV decomposition', fontsize = 30)\n",
    "plt.ylabel('Training RMSE', fontsize = 20)\n",
    "plt.xlabel('Iteration', fontsize = 20)\n",
    "plt.show()"
   ]
  },
  {
   "cell_type": "markdown",
   "metadata": {},
   "source": [
    "**Runtime estimation**"
   ]
  },
  {
   "cell_type": "markdown",
   "metadata": {},
   "source": [
    "Eventually, we will launch the algorithm once again on the entire utility matrix to estimate the runtime of the algorithm of a single run. "
   ]
  },
  {
   "cell_type": "code",
   "execution_count": 130,
   "metadata": {},
   "outputs": [
    {
     "name": "stdout",
     "output_type": "stream",
     "text": [
      "The runtime for a single run on all ratings is of 530.2284262180328\n"
     ]
    }
   ],
   "source": [
    "#Launch the algorithm on all ratings and estimate the runtime. \n",
    "U, V = initialize(ratings, np.size(rating_mat,0), np.size(rating_mat,1), K)\n",
    "start = time.time()\n",
    "UV_decomp(ratings_np, rating_mat_np, U, V, iter = 40)\n",
    "end = time.time()\n",
    "\n",
    "print('The runtime for a single run on all ratings is of '+ str(end-start))"
   ]
  },
  {
   "cell_type": "markdown",
   "metadata": {},
   "source": [
    "**Experiments with different K and numbers of iterations**"
   ]
  },
  {
   "cell_type": "markdown",
   "metadata": {},
   "source": [
    "Now, we convert the cross validation program into a function and conduct experiments with different parameters."
   ]
  },
  {
   "cell_type": "code",
   "execution_count": 42,
   "metadata": {},
   "outputs": [],
   "source": [
    "def cv(ratings, K, iter):\n",
    "    #Set a seed for reproducibility\n",
    "    np.random.seed(888)\n",
    "\n",
    "    #Generate the 5 folds for all rows of the utility matrix of input.\n",
    "    nfolds = 5\n",
    "    folds = np.array([x%nfolds for x in range(len(ratings))])\n",
    "    np.random.shuffle(folds)\n",
    "\n",
    "    #Set up the vectors of errors. \n",
    "    errors_5folds_mae_training = []\n",
    "    errors_5folds_rmse_training = []\n",
    "    errors_5folds_mae_test = []\n",
    "    errors_5folds_rmse_test = [] \n",
    "\n",
    "    '''\n",
    "    We will cycle through the possible folds (from 1 to 5) and leave one set of observations (test set) out of the training process.\n",
    "    Then, we use it to perform predictions and compute the error. \n",
    "    '''\n",
    "    \n",
    "    start = time.time()\n",
    "    for i in range(5):\n",
    "        #Fix the rows of the ratings Data Frame that will be the training set.\n",
    "        train = ratings.loc[folds!=i, :]\n",
    "        train_mat = train.pivot(index='user', columns='movie', values='rating')\n",
    "        train_np = np.matrix(train)\n",
    "        train_mat_np = np.array(train_mat)\n",
    "    \n",
    "        #Create lookup dictionary associating the indices of the numpy array to the\n",
    "        #respective movieID and userID.\n",
    "        col_names_train = {train_mat.columns[j]:j for j in range(len(train_mat.columns))}\n",
    "        row_names_train_ = {train_mat.index[j]:j for j in range(len(train_mat.index))}   \n",
    "    \n",
    "        #Initialize U and V and run the prediction.\n",
    "        U, V = initialize(train, np.size(train_mat_np,0), np.size(train_mat_np,1), K)\n",
    "        pred, res = UV_decomp(train_np, train_mat_np, U, V, K = K, iter = iter)\n",
    "    \n",
    "        #Initialize test set\n",
    "        test =  ratings.loc[folds == i, :]\n",
    "        test_np = np.matrix(test)\n",
    "        test_pred = []\n",
    "    \n",
    "        #The global mean of the training matrix will be used as a prediction for the observations that have a missing \n",
    "        #movie or user in the training set.\n",
    "        global_mean = np.mean(train['rating'])\n",
    "    \n",
    "        #Create the prediction vector of the test set. If a user or item are not present\n",
    "        #in the training set, predict their rating as the gloal mean if the training matrix.\n",
    "        for val in test_np:\n",
    "            if val[0,0] in row_names_train and val[0,1] in col_names_train:\n",
    "                test_pred.append(pred[row_names_train[val[0,0]], col_names_train[val[0,1]]])\n",
    "            else:\n",
    "                test_pred.append(global_mean)\n",
    "       \n",
    "        test_pred = np.array(test_pred)\n",
    "        test_obs = np.array(test['rating'])\n",
    "    \n",
    "    \n",
    "        #Extra fallback rules to improve performance\n",
    "        test_pred = np.where(test_pred > 5, 5, test_pred)\n",
    "        test_pred = np.where(test_pred < 1, 1, test_pred)\n",
    "    \n",
    "        #Calculate and store the errors on the training set and test set. \n",
    "        errors_5folds_rmse_training.append(RMSE(train_np,train_mat_np, pred))\n",
    "        errors_5folds_mae_training.append(MAE(train_np, train_mat_np, pred))    \n",
    "    \n",
    "        #Calculate the error on the test set and store it.\n",
    "        test_RMSE = np.sqrt(np.sum((test_pred-test_obs)**2)/len(test_pred)) \n",
    "        test_MAE = np.sum(abs(test_pred-test_obs))/len(test_pred)\n",
    "        errors_5folds_rmse_test.append(test_RMSE)\n",
    "        errors_5folds_mae_test.append(test_MAE) \n",
    "       \n",
    "    \n",
    "        partial_error.append(res)    \n",
    "    end = time.time()\n",
    "\n",
    "    #Average across the folds to compute the errors. \n",
    "    cv_error_mae_train = np.mean(errors_5folds_mae_training)\n",
    "    cv_error_rmse_train = np.mean(errors_5folds_rmse_training)\n",
    "    cv_error_mae_test = np.mean(errors_5folds_mae_test)\n",
    "    cv_error_rmse_test = np.mean(errors_5folds_rmse_test)\n",
    "    \n",
    "    print('The time elapsed is of: ', end-start)\n",
    "    print('The average rmse over the training set for iter = ',iter,' and K = ',K,' is: ', cv_error_rmse_train)\n",
    "    print('The average mae over the training set for iter = ',iter,' and K = ',K,' is: ', cv_error_mae_train)\n",
    "    print('The average rmse over the test set for iter = ',iter,' and K = ',K,' is: ', cv_error_rmse_test)\n",
    "    print('The average mae over the test set for iter = ',iter,' and K = ',K,' is: ', cv_error_mae_test)\n",
    "    return "
   ]
  },
  {
   "cell_type": "markdown",
   "metadata": {},
   "source": [
    "Evaluate accuracy for different amounts of iterations"
   ]
  },
  {
   "cell_type": "code",
   "execution_count": 43,
   "metadata": {},
   "outputs": [
    {
     "name": "stdout",
     "output_type": "stream",
     "text": [
      "The time elapsed is of:  615.3291356563568\n",
      "The average rmse over the training set for iter =  10  and K =  10  is:  0.8336950900484219\n",
      "The average mae over the training set for iter =  10  and K =  10  is:  0.6556038720251399\n",
      "The average rmse over the test set for iter =  10  and K =  10  is:  0.9303417407685423\n",
      "The average mae over the test set for iter =  10  and K =  10  is:  0.7263148012270412\n"
     ]
    }
   ],
   "source": [
    "cv(ratings, 10, 10)"
   ]
  },
  {
   "cell_type": "code",
   "execution_count": 44,
   "metadata": {},
   "outputs": [
    {
     "name": "stdout",
     "output_type": "stream",
     "text": [
      "The time elapsed is of:  1257.7003996372223\n",
      "The average rmse over the training set for iter =  20  and K =  10  is:  0.8063416842841853\n",
      "The average mae over the training set for iter =  20  and K =  10  is:  0.6327524055735948\n",
      "The average rmse over the test set for iter =  20  and K =  10  is:  0.91535899725364\n",
      "The average mae over the test set for iter =  20  and K =  10  is:  0.7116126905637848\n"
     ]
    }
   ],
   "source": [
    "cv(ratings, 10, 20)"
   ]
  },
  {
   "cell_type": "code",
   "execution_count": 45,
   "metadata": {},
   "outputs": [
    {
     "name": "stdout",
     "output_type": "stream",
     "text": [
      "The time elapsed is of:  2126.8232374191284\n",
      "The average rmse over the training set for iter =  30  and K =  10  is:  0.794104794442223\n",
      "The average mae over the training set for iter =  30  and K =  10  is:  0.6225982326128164\n",
      "The average rmse over the test set for iter =  30  and K =  10  is:  0.9107524178844166\n",
      "The average mae over the test set for iter =  30  and K =  10  is:  0.7064864754666865\n"
     ]
    }
   ],
   "source": [
    "cv(ratings, 10, 30)"
   ]
  },
  {
   "cell_type": "markdown",
   "metadata": {},
   "source": [
    "Evaluate accuracy for different values of k "
   ]
  },
  {
   "cell_type": "code",
   "execution_count": 50,
   "metadata": {},
   "outputs": [
    {
     "name": "stdout",
     "output_type": "stream",
     "text": [
      "The time elapsed is of:  744.6255009174347\n",
      "The average rmse over the training set for iter =  20  and K =  2  is:  0.8841573902004999\n",
      "The average mae over the training set for iter =  20  and K =  2  is:  0.6979955191851637\n",
      "The average rmse over the test set for iter =  20  and K =  2  is:  0.9057412102643504\n",
      "The average mae over the test set for iter =  20  and K =  2  is:  0.713301966538945\n",
      "The time elapsed is of:  847.0215768814087\n",
      "The average rmse over the training set for iter =  20  and K =  4  is:  0.8574216150123132\n",
      "The average mae over the training set for iter =  20  and K =  4  is:  0.6750599759648882\n",
      "The average rmse over the test set for iter =  20  and K =  4  is:  0.9022301522095277\n",
      "The average mae over the test set for iter =  20  and K =  4  is:  0.7072154143020483\n",
      "The time elapsed is of:  954.6232228279114\n",
      "The average rmse over the training set for iter =  20  and K =  6  is:  0.8368457929236817\n",
      "The average mae over the training set for iter =  20  and K =  6  is:  0.6580472401165409\n",
      "The average rmse over the test set for iter =  20  and K =  6  is:  0.9035922598769505\n",
      "The average mae over the test set for iter =  20  and K =  6  is:  0.7058508058491846\n",
      "The time elapsed is of:  1070.150877714157\n",
      "The average rmse over the training set for iter =  20  and K =  8  is:  0.8189305761541867\n",
      "The average mae over the training set for iter =  20  and K =  8  is:  0.6432005110152975\n",
      "The average rmse over the test set for iter =  20  and K =  8  is:  0.9056715171930758\n",
      "The average mae over the test set for iter =  20  and K =  8  is:  0.7057053553167401\n"
     ]
    }
   ],
   "source": [
    "for k in range(2,10,2):\n",
    "    cv(ratings, k, 20)"
   ]
  }
 ],
 "metadata": {
  "kernelspec": {
   "display_name": "Python 3",
   "language": "python",
   "name": "python3"
  },
  "language_info": {
   "codemirror_mode": {
    "name": "ipython",
    "version": 3
   },
   "file_extension": ".py",
   "mimetype": "text/x-python",
   "name": "python",
   "nbconvert_exporter": "python",
   "pygments_lexer": "ipython3",
   "version": "3.8.5"
  }
 },
 "nbformat": 4,
 "nbformat_minor": 4
}
